{
 "cells": [
  {
   "cell_type": "markdown",
   "metadata": {
    "id": "3kh1xWwIvMLi"
   },
   "source": [
    "## ***Part 1***"
   ]
  },
  {
   "cell_type": "markdown",
   "metadata": {},
   "source": [
    "**Describe the dataset using any appropriate descriptive statistics and visuals**"
   ]
  },
  {
   "cell_type": "code",
   "execution_count": null,
   "metadata": {
    "id": "a76_WaPYvNiz"
   },
   "outputs": [],
   "source": [
    "import pandas as pd\n",
    "import numpy as np\n",
    "import matplotlib.pyplot as plt\n",
    "import plotly.express as px\n",
    "import seaborn as sns\n",
    "import mpl_toolkits\n",
    "import statistics\n",
    "import statsmodels.api as sm \n",
    "%matplotlib inline"
   ]
  },
  {
   "cell_type": "code",
   "execution_count": null,
   "metadata": {
    "colab": {
     "base_uri": "https://localhost:8080/",
     "height": 317
    },
    "id": "yhAM9v52VMLw",
    "outputId": "180a859c-1f1f-4c4d-f3c2-e15628443035"
   },
   "outputs": [],
   "source": [
    "houses = pd.read_csv('HousePrices.csv')\n",
    "houses=houses.reindex(sorted(houses.columns),axis=1)\n",
    "houses.describe()\n",
    "\n",
    "# Rearranging the columns alphabetically"
   ]
  },
  {
   "cell_type": "markdown",
   "metadata": {
    "id": "YfGH3JTZK_Qn"
   },
   "source": [
    "21,613 houses in total. \n",
    "At least one house has 33 bedrooms, this would be  extremely large and maybe not representative of the population.\n",
    "Square footage of living area ranges from 290 to 13,540."
   ]
  },
  {
   "cell_type": "code",
   "execution_count": null,
   "metadata": {
    "colab": {
     "base_uri": "https://localhost:8080/"
    },
    "id": "aaqQLDdddgRu",
    "outputId": "7756e20e-3a26-4618-f148-9288c5bb8940"
   },
   "outputs": [],
   "source": [
    "print(\"The max house price is \" + str(round(np.max(houses['price']))))\n",
    "print(\"Whereas, the min house price is \" + str(round(np.min(houses['price']))))\n",
    "print(\"So the range is \" + str(round(np.ptp(houses['price']))))"
   ]
  },
  {
   "cell_type": "code",
   "execution_count": null,
   "metadata": {
    "colab": {
     "base_uri": "https://localhost:8080/"
    },
    "id": "ESCyynyad4xP",
    "outputId": "b657e6ee-aaaa-4de5-a052-021fd801c7c6"
   },
   "outputs": [],
   "source": [
    "houses['price'].quantile([.1,.25,.5,.75,.9])"
   ]
  },
  {
   "cell_type": "markdown",
   "metadata": {
    "id": "-h6n4VH2eBW1"
   },
   "source": [
    "90% of houses prices are less than 887,000.\n",
    "\n",
    "Yet the Max is 7.7 million."
   ]
  },
  {
   "cell_type": "code",
   "execution_count": null,
   "metadata": {
    "colab": {
     "base_uri": "https://localhost:8080/"
    },
    "id": "yrGl0_devtaF",
    "outputId": "f10cfeae-643a-4080-eb8a-d1170b419600"
   },
   "outputs": [],
   "source": [
    "print(\"The arithmeitc mean is \" + str(round(houses['price'].mean())))\n",
    "from scipy.stats.mstats import gmean\n",
    "print(\"The geometric mean is \"+ str(round(gmean(houses['price'],axis=None))))"
   ]
  },
  {
   "cell_type": "markdown",
   "metadata": {
    "id": "I9UVGZBXwJDV"
   },
   "source": [
    "Geometric mean is not influenced by skewed distributions. It is always lower than the arithmetic mean."
   ]
  },
  {
   "cell_type": "code",
   "execution_count": null,
   "metadata": {
    "colab": {
     "base_uri": "https://localhost:8080/"
    },
    "id": "Qbk_oHS9vtqC",
    "outputId": "1f81185a-7b13-4aa5-b28d-3b7897389a6b"
   },
   "outputs": [],
   "source": [
    "print(\"The median price is \" + str(round(houses['price'].median())))\n",
    "print(\"The mode price mean is \" + str(round(houses['price'].mode())))"
   ]
  },
  {
   "cell_type": "code",
   "execution_count": null,
   "metadata": {
    "colab": {
     "base_uri": "https://localhost:8080/"
    },
    "id": "N86vN_9HSJ87",
    "outputId": "c53d35b5-7b43-4901-fb82-7295a4a4d4ae"
   },
   "outputs": [],
   "source": [
    "#standard deviation\n",
    "round(houses['price'].std())"
   ]
  },
  {
   "cell_type": "markdown",
   "metadata": {
    "id": "--B0qX6-SNEM"
   },
   "source": [
    "**Standard Deviation Comments:** Arithmetic Mean = 540,088.\n",
    "If this is a normal distribution, 95% of prices will be 540,088 + or - 2(standard deviation). So, 95% of the house prices wil be between approx -194,166 and 1,274,342.\n",
    "The presence of outliers may be affecting this, as a negative house price is not realistic. Nobody is going to pay you to take their house!"
   ]
  },
  {
   "cell_type": "code",
   "execution_count": null,
   "metadata": {
    "colab": {
     "base_uri": "https://localhost:8080/"
    },
    "id": "IktbUvq_SKH_",
    "outputId": "81fe35d4-0cfb-42f2-a373-0542036ff185"
   },
   "outputs": [],
   "source": [
    "houses['price'].skew()"
   ]
  },
  {
   "cell_type": "markdown",
   "metadata": {
    "id": "64D-WfAUSWpC"
   },
   "source": [
    "The dataset shows positive skewness."
   ]
  },
  {
   "cell_type": "code",
   "execution_count": null,
   "metadata": {
    "colab": {
     "base_uri": "https://localhost:8080/"
    },
    "id": "zGOaEreFSKT8",
    "outputId": "6c43c220-e7a2-44b3-997d-d738c6980dfc"
   },
   "outputs": [],
   "source": [
    "houses['price'].kurtosis()"
   ]
  },
  {
   "cell_type": "markdown",
   "metadata": {
    "id": "6lqxZ1d0SmRM"
   },
   "source": [
    "The price data has excess kurtosis. There is a higher than normal possibility of extreme high and extreme low prices.\n"
   ]
  },
  {
   "cell_type": "code",
   "execution_count": null,
   "metadata": {
    "colab": {
     "base_uri": "https://localhost:8080/",
     "height": 1000
    },
    "id": "uZe5mYb6vt87",
    "outputId": "08066e7e-61e5-4bc5-dd8e-d54b28d818ed"
   },
   "outputs": [],
   "source": [
    "indeps=['sqft_living','grade']\n",
    "for i in indeps:\n",
    "  px.scatter(houses, x=i,y='price',trendline='ols').show()"
   ]
  },
  {
   "cell_type": "code",
   "execution_count": null,
   "metadata": {
    "colab": {
     "base_uri": "https://localhost:8080/",
     "height": 542
    },
    "id": "wSxnW0-tvuC1",
    "outputId": "fd3368a9-cf3a-4e86-de4e-271f334ac406"
   },
   "outputs": [],
   "source": [
    "px.histogram(houses, x='price').show()"
   ]
  },
  {
   "cell_type": "markdown",
   "metadata": {
    "id": "4eNk9-4Iw8Z7"
   },
   "source": [
    "Positive skewness is shown here. Most of the data is to the left and there is a long right-hand tail that stretches all the way to +7 million."
   ]
  },
  {
   "cell_type": "code",
   "execution_count": null,
   "metadata": {
    "colab": {
     "base_uri": "https://localhost:8080/",
     "height": 335
    },
    "id": "jmmDDKI4xITT",
    "outputId": "d1d5aae2-139a-4a90-9f25-5bc5bf7878fb"
   },
   "outputs": [],
   "source": [
    "corr = houses.corr()\n",
    "fig = plt.figure()\n",
    "ax = fig.add_subplot(111)\n",
    "cax = ax.matshow(corr,cmap='coolwarm', vmin=-1, vmax=1)\n",
    "fig.colorbar(cax)\n",
    "ticks = np.arange(0,len(houses.columns),1)\n",
    "ax.set_xticks(ticks)\n",
    "plt.xticks(rotation=90)\n",
    "ax.set_yticks(ticks)\n",
    "ax.set_xticklabels(houses.columns)\n",
    "ax.set_yticklabels(houses.columns)\n",
    "plt.show()\n",
    "\n",
    "#From this chart we can see what variables are most correlated with each other. "
   ]
  },
  {
   "cell_type": "code",
   "execution_count": null,
   "metadata": {
    "colab": {
     "base_uri": "https://localhost:8080/"
    },
    "id": "V9L6fMT3vuvX",
    "outputId": "44904ee5-feed-4983-cc2d-8bc5da8e7c91"
   },
   "outputs": [],
   "source": [
    "print(\"The correlation...\")\n",
    "print(\"between the overall grade of the house and living area is \" +str(houses['grade'].corr(houses['sqft_living'])))\n",
    "print(\"between living area and the price is \" +str(houses['sqft_living'].corr(houses['price'])))\n",
    "print(\"between size of the basement and the number of floors is \" +str(houses['sqft_basement'].corr(houses['floors'])))"
   ]
  },
  {
   "cell_type": "code",
   "execution_count": null,
   "metadata": {
    "colab": {
     "base_uri": "https://localhost:8080/",
     "height": 500
    },
    "id": "RzqkoP4l07ek",
    "outputId": "660a5bd3-a929-4f3a-eed9-ddf4cf5dddf3"
   },
   "outputs": [],
   "source": [
    "data= {'Price' : houses['price'],\n",
    "'Sqft_Living' : houses['sqft_living'],\n",
    "'Grade' : houses['grade'],\n",
    "'Bathrooms' : houses['bathrooms'], 'Bedrooms' : houses['bedrooms'], 'Latitude': houses['lat'], 'Longitude': houses['long'] }\n",
    "\n",
    "df = pd.DataFrame(data, columns=['Price','Sqft_Living','Grade','Bathrooms','Bedrooms','Latitude','Longitude'])\n",
    "plt.figure(figsize=(15,8))\n",
    "covMatrix=pd.DataFrame.cov(df)\n",
    "sns.heatmap(covMatrix, annot=True, fmt='g')\n",
    "plt.title('Covariance Matrix')\n",
    "plt.show()"
   ]
  },
  {
   "cell_type": "code",
   "execution_count": null,
   "metadata": {
    "colab": {
     "base_uri": "https://localhost:8080/",
     "height": 315
    },
    "id": "sPSvQek_07sc",
    "outputId": "86ceef91-b6c9-4443-92a3-3462a964120f"
   },
   "outputs": [],
   "source": [
    "houses['bedrooms'].value_counts().plot(kind='bar')\n",
    "plt.title('Number of Bedrooms')\n",
    "plt.xlabel('Bedrooms')\n",
    "plt.ylabel('Count')\n",
    "sns.despine"
   ]
  },
  {
   "cell_type": "markdown",
   "metadata": {
    "id": "c1TqYeiO2h58"
   },
   "source": [
    "3 bedroom houses are most common, followed by 4 bedroom houses. "
   ]
  },
  {
   "cell_type": "code",
   "execution_count": null,
   "metadata": {
    "colab": {
     "base_uri": "https://localhost:8080/",
     "height": 475
    },
    "id": "rqSk2pob2Wz6",
    "outputId": "4957707e-12f7-4379-9e0e-e1b564efff98"
   },
   "outputs": [],
   "source": [
    "plt.figure()\n",
    "sns.jointplot(x=houses.lat.values, y=houses.long.values)\n",
    "plt.ylabel('Longitude', fontsize=12)\n",
    "plt.xlabel('Latitude',fontsize=12)\n",
    "plt.show()\n",
    "sns.despine\n",
    "\n",
    "#Showing the common location of houses"
   ]
  },
  {
   "cell_type": "code",
   "execution_count": null,
   "metadata": {
    "colab": {
     "base_uri": "https://localhost:8080/",
     "height": 542
    },
    "id": "Q8D94Bpb2W7x",
    "outputId": "e795ffe5-b2b3-4d2f-b6dd-91b62d81b88f"
   },
   "outputs": [],
   "source": [
    "fig=px.histogram(houses, x=\"grade\")\n",
    "fig.show()"
   ]
  },
  {
   "cell_type": "markdown",
   "metadata": {
    "id": "GBhxbU_w4H5r"
   },
   "source": [
    "Most common overall grade for a house is 7, out of a max 13.\n",
    "Only 0.5% of houses were given a grade of 12 or higher"
   ]
  },
  {
   "cell_type": "markdown",
   "metadata": {
    "id": "yfgDGW05uNni"
   },
   "source": [
    "## ***Part 2***"
   ]
  },
  {
   "cell_type": "markdown",
   "metadata": {},
   "source": [
    "**Develop a theoretical model, based on prior research, of how house prices are determined\n",
    "based on house features**"
   ]
  },
  {
   "cell_type": "markdown",
   "metadata": {
    "id": "yta5CXe4tzrx"
   },
   "source": [
    "House prices are determined by location, square footage, number of bedrooms, bathrooms and the overall grade given to the house. \n",
    "\n",
    "There have been many papers discussing what variables most impact house prices, many with varying findings. There are some researchers that argue factors such as proximity to schools and public amenities are significant. Location is the one variable prevalent in all academic papers relating to the prediction of house prices. As such, latitude and longitude  will be included as explanatory variables. \n",
    "\n",
    "A common hypothesis is that the number of bedrooms in a house has a significant influence on price. However, 40 studies were conducted and only 21 displayed a positive impact on price (Sirmans et al., 2005). Similarly, a study by Fletcher et al. (2000) states the number of rooms, not just bedrooms, positively relates to the price. As Sirmans et al.’s study show numbers of bedrooms can positively impact price, it must be included in the model. Number of bathrooms will also be included due to Flecther et al.'s (2000) findings. \n",
    "\n",
    "A recurring finding in most research is that the square footage of the house, as well as how positively the house is graded overall, impacts price. Zietz et al. (2008) found that square footage and lot size have the greatest impact on how much a house can be sold for. Most research for this has been completed in the United States. Interestingly, global studies including one from Istanbul, also show that an increase in square footage leads to an increase in price. It has been shown that “buyers are willing to pay more for more space” (Cagalayn & Arikan, 2011). \n",
    "\n",
    "We must err on the side of caution however, as one study using meta regression analysis shows that “as the number of variables in the model increases, the lower the effect of square footage on selling price” (Sirmans et al., 2006). The data includes price and 19 other variables. If we had 50 variables to test, the significance of square footage may decrease. However, we will continue with the theory that house prices are determined by location, square footage, number of bedrooms, bathrooms and the overall grade given to the house, as it has been seen in several studies.\n",
    "\n",
    "\n",
    "\n",
    "References\n",
    "\n",
    "Cagalayan, E. & Arikan, E. (2011) ‘Determination of house prices in Istanbul: a quantile regression approach’, *Quality & Quantity*, 45, pp. 305-317. \n",
    "\n",
    "Fletcher, M., Gallimore, P. & Mangan, J. (2000) ‘Heteroscedasticity in hedonic house price models’, *Journal of Property Research*, 17(2), pp. 93-108\n",
    "\n",
    "Sirmans, G.S, Macpherson, D.A. & Zietz, E.N. (2005) ‘The composition of hedonic pricing models, *Journal of Real Estate Literature*, 13(1), pp. 3-46. \n",
    "\n",
    "Sirmans, G.S., MacDonald, L., Macpherson, D.A. & Zietz, E.N. (2006) ‘The Value of Housing Characteristics: A Meta-Analysis’, *The Journal of Real Estate Finance and Economics*, 33, pp. 215-240.\n",
    "\n",
    "Zietz, J., Zietz E.N. & Sirmans, G.S. (2008) ‘Determinants of House Prices: A Quantile Regression Approach’, *The Journal of Real Estate Finance and Economics*, 37, pp. 317-338.\n"
   ]
  },
  {
   "cell_type": "markdown",
   "metadata": {
    "id": "u27uvdkQuvpC"
   },
   "source": [
    "## ***Part 3***"
   ]
  },
  {
   "cell_type": "markdown",
   "metadata": {},
   "source": [
    "**Test, using linear regression, your proposed theoretical model to explain house prices and analyse the findings.**"
   ]
  },
  {
   "cell_type": "markdown",
   "metadata": {
    "id": "WpjC7XRB5rLs"
   },
   "source": [
    "So far we have described the dataset and proposed a theoretical model. In part 1 it was shown that the dataset was affected by outliers. These outliers will be removed before testing the model. "
   ]
  },
  {
   "cell_type": "markdown",
   "metadata": {
    "id": "5YZoT3XNWnIi"
   },
   "source": [
    "When testing hypotheses, we use a t-distribution rather than a normal distribution. According to the central limit theorrem, the t-distribution approaches a normal distribution when the sample size is large enough. Our dataset contains over 21,000 houses."
   ]
  },
  {
   "cell_type": "markdown",
   "metadata": {
    "id": "AvcsA_UNxr9i"
   },
   "source": [
    "Extreme cases are often due to randomnness. The concept of regression to the mean says that these extreme values will not persist over time. \n"
   ]
  },
  {
   "cell_type": "code",
   "execution_count": null,
   "metadata": {
    "colab": {
     "base_uri": "https://localhost:8080/",
     "height": 542
    },
    "id": "XBh1bw5QlZ3U",
    "outputId": "ee769d6c-b283-4cf6-9a32-f91a7ebd2ebf"
   },
   "outputs": [],
   "source": [
    "fig = px.box(houses,y='price')\n",
    "fig.show()\n",
    "\n",
    "# Prices > 1,127,500 are upper outliers"
   ]
  },
  {
   "cell_type": "code",
   "execution_count": null,
   "metadata": {
    "colab": {
     "base_uri": "https://localhost:8080/",
     "height": 542
    },
    "id": "Tpf0p5Pslg-t",
    "outputId": "f8c9aac4-dd7f-473c-f9b4-c1af17551805"
   },
   "outputs": [],
   "source": [
    "fig = px.box(houses,y='bedrooms')\n",
    "fig.show()\n",
    "\n",
    "# Houses with > 5 bedrooms are upper outliers"
   ]
  },
  {
   "cell_type": "code",
   "execution_count": null,
   "metadata": {
    "colab": {
     "base_uri": "https://localhost:8080/"
    },
    "id": "N51vWyWNl4sG",
    "outputId": "a4688d5f-66c0-4abd-ba8b-037f18c6dbd4"
   },
   "outputs": [],
   "source": [
    "#Filtering outliers \n",
    "houses_noout= houses.loc[(houses['price']<=1127500) & (houses['bedrooms']<6)]\n",
    "print(len(houses_noout))\n",
    "\n",
    "# Any houses above the upper fence are upper outliers. \n",
    "# To reduce the effect of outliers only houses where the price is less than or equal to 1,127,500 dollars\n",
    "# and those that have less than 6 bedrooms will be included.\n",
    "# There are 20,190 houses in our dataset"
   ]
  },
  {
   "cell_type": "code",
   "execution_count": null,
   "metadata": {
    "colab": {
     "base_uri": "https://localhost:8080/"
    },
    "id": "p0A3WMd2mO3H",
    "outputId": "cb5f79c1-c8a0-4314-fc54-46909aac79bf"
   },
   "outputs": [],
   "source": [
    "houses_noout['price_per_sqft']= houses_noout['price']/houses_noout['sqft_living']\n",
    "\n",
    "# Adding a column to show price per square foot"
   ]
  },
  {
   "cell_type": "code",
   "execution_count": null,
   "metadata": {
    "colab": {
     "base_uri": "https://localhost:8080/"
    },
    "id": "1H4HHc0a4x9E",
    "outputId": "db6ca77d-5a3b-4934-aa27-d32fc0f719eb"
   },
   "outputs": [],
   "source": [
    "print(\"The new correlation between...\")\n",
    "print(\"the overall grade of the house and the price is \" +str(houses_noout['grade'].corr(houses_noout['price'])))\n",
    "print(\"the size of the house and the price is \" +str(houses_noout['sqft_living'].corr(houses_noout['price'])))\n",
    "print(\"the number of bedrooms and the price is \" +str(houses_noout['bedrooms'].corr(houses_noout['price'])))\n",
    "print(\"the number of bathrooms and the price is \" +str(houses_noout['bathrooms'].corr(houses_noout['price'])))\n",
    "print(\"the longitude and the price is \" +str(houses_noout['long'].corr(houses_noout['price'])))\n",
    "print(\"the latitude and the price is \" +str(houses_noout['lat'].corr(houses_noout['price'])))"
   ]
  },
  {
   "cell_type": "markdown",
   "metadata": {
    "id": "KYrRNk1755J8"
   },
   "source": [
    "**Correlation** shows that variables are somehow related. If two variables are correlated it does not mean that a change in one causes a change in the other. \n",
    "\n",
    "**Regression** however does try to describe a causal relationship. Regression attempts to show that a change in one variable causes a change in the other"
   ]
  },
  {
   "cell_type": "markdown",
   "metadata": {
    "id": "XebpXmFl60v2"
   },
   "source": [
    "When testing regression there must a dependent variable and one or more explanatory variables.\n",
    "\n",
    "Price is the dependent variable (y). Sqft_living, bedrooms, bathrooms, grade, longitude and latitude will be explanatory variables (x's)"
   ]
  },
  {
   "cell_type": "code",
   "execution_count": null,
   "metadata": {
    "colab": {
     "base_uri": "https://localhost:8080/",
     "height": 542
    },
    "id": "XdHWpkYatsOt",
    "outputId": "32591d69-194c-49dd-989d-4fdf88f16b88"
   },
   "outputs": [],
   "source": [
    "px.scatter(houses_noout, x='sqft_living',y='price',trendline='ols').show()\n",
    "\n",
    "# The regression line says price = (169)(sqft of the house) + 143,410\n",
    "# r-squared is 0.39\n",
    "# This means 39% of the variation in house prices can be explained by a change in size of the living area."
   ]
  },
  {
   "cell_type": "code",
   "execution_count": null,
   "metadata": {
    "colab": {
     "base_uri": "https://localhost:8080/",
     "height": 542
    },
    "id": "xsrmP_wP2aCR",
    "outputId": "52eefea4-cc20-4aaf-d00c-344c27694560"
   },
   "outputs": [],
   "source": [
    "px.scatter(houses_noout, x='grade',y='price',trendline='ols').show()\n",
    "\n",
    "# The regression line says price = (126,291)(grade) - 475,519\n",
    "# r-squared is 0.40"
   ]
  },
  {
   "cell_type": "code",
   "execution_count": null,
   "metadata": {
    "colab": {
     "base_uri": "https://localhost:8080/",
     "height": 542
    },
    "id": "fq6x1ikQTK9d",
    "outputId": "dd2708e3-e69d-443a-ebd8-a639d7bc3879"
   },
   "outputs": [],
   "source": [
    "px.scatter(houses_noout, x='bedrooms',y='price',trendline='ols').show()\n",
    "\n",
    "# The regression line says price = (76,871)(number of bedrooms) + 222,503\n",
    "# r-squared is 0.09\n",
    "# 9% of the variation in prices can be explained by a change in the number of bedrooms in the house.\n",
    "# Used in isolation, this would not be a suitable determinant of price"
   ]
  },
  {
   "cell_type": "code",
   "execution_count": null,
   "metadata": {
    "colab": {
     "base_uri": "https://localhost:8080/",
     "height": 542
    },
    "id": "RR_WlWT_K3iL",
    "outputId": "ce8de100-8e44-4b76-e91d-2816bfed1c23"
   },
   "outputs": [],
   "source": [
    "px.scatter(houses_noout, x='bathrooms',y='price',trendline='ols').show()\n",
    "\n",
    "# The regression line says price = (135,695)(number of bathrooms) + 198,566\n",
    "# r-squared is 0.21\n",
    "# 21% of the variation in prices can be explained by a change in the number of bathrooms in the house."
   ]
  },
  {
   "cell_type": "code",
   "execution_count": null,
   "metadata": {
    "colab": {
     "base_uri": "https://localhost:8080/",
     "height": 542
    },
    "id": "cE0Zoe7JpbVQ",
    "outputId": "84d6dc5d-413d-4e3b-c682-de82cc4af8e2"
   },
   "outputs": [],
   "source": [
    "  px.scatter(houses_noout, x='long',y='price',trendline='ols').show()\n",
    "\n",
    "# The regression line says price = (2108,152)(longitude) + 13,692,807\n",
    "# r-squared is 0.01"
   ]
  },
  {
   "cell_type": "code",
   "execution_count": null,
   "metadata": {
    "colab": {
     "base_uri": "https://localhost:8080/",
     "height": 542
    },
    "id": "veewll2Lpbjc",
    "outputId": "f83f5589-9bc0-4431-bd92-64af803b1f0f"
   },
   "outputs": [],
   "source": [
    "px.scatter(houses_noout, x='lat',y='price',trendline='ols').show()\n",
    "\n",
    "# The regression line says price = (633,467)(latitude) - 29,650,239\n",
    "# r-squared is 0.19\n",
    "# It is interesting that latitude has greater supposed explanatory power than longitude"
   ]
  },
  {
   "cell_type": "markdown",
   "metadata": {
    "id": "1l5ztz1OWNc1"
   },
   "source": [
    "Testing The Hypotheses:"
   ]
  },
  {
   "cell_type": "code",
   "execution_count": null,
   "metadata": {
    "colab": {
     "base_uri": "https://localhost:8080/"
    },
    "id": "zQPEHtIyQifC",
    "outputId": "397870d8-1e07-4b55-fa2d-02c9530138da"
   },
   "outputs": [],
   "source": [
    "y=houses_noout['price']\n",
    "X=houses_noout[['sqft_living','bedrooms','grade','bathrooms','lat','long']]\n",
    "X=sm.add_constant(X)\n",
    "model_mult=sm.OLS(y, X).fit()\n",
    "print(model_mult.summary())\n",
    "\n",
    "# H0:  House prices are equal to (123 times the size of the house) - (10,880 times the number of bedrooms)\n",
    "#      + (64,330 times the grade of the house) - (7,316 times the number of bathrooms) + (569,300 times the latitude) - (100,000 times the longitude) \n",
    "\n",
    "# H1:  House prices are normally equal to (123 times the size of the house) - (10,880 times the number of bedrooms)\n",
    "#      + (64,330 times the grade of the house) - (7,316 times the number of bathrooms) + (569,300 times the latitude) - (100,000 times the longitude),\n",
    "#      but there must also be a 39,500,000 dollar deduction"
   ]
  },
  {
   "cell_type": "markdown",
   "metadata": {
    "id": "ctzHNoe7qSa2"
   },
   "source": [
    "R-squared and Adjusted R-squared describe how well the explanatory variables (x) actually explain changes in the dependent variable (y). A value of 0 shows no explanatory power, and 1 shows full explanatory power.\n",
    "\n",
    "A single hypothesis test was completed with each of the six variables (sqft_living, grade, bedrooms, bathrooms, longitude & latitude ) and price in a seperate worksheet. The respective Adj. R-squared value for each was 0.39, 0.4, 0.09, 0.21, 0.01 and 0.19\n",
    "\n",
    "Interestingly, the **Adj. R-squared** value when the multiple hypotheses is tested increases to 0.624. This means when combined they have greater explanatory power over price. **The result of 0.624 states that 62.4% of the house prices in our dataset fit the regression model, i.e. given their 6 variables the price could be predicted using the model**.\n",
    "\n",
    "It is important to use the Adj. R-squared and not the R-squared when testing multiple hypotheses. R-squared can increase simply by adding more variables, without increasing the explanatory power. For example a new column 'sport' could be created that measures the household's favourite sport. If this was added as a seventh explanatory variable R-squared would increase, even though it may not better help predict house prices. \n",
    "\n",
    "The probability **F-statistic** is < 0.01 which means it is highly significant. The null hypothesis will be rejected at almost any level (95%, 99% etc). There is a very small chance chance that the null hypothesis is true. The p-value for the constant is also < 0.01. The F-test is only used for multiple regression. The model is shown to be significant in predicting house prices as the f-test is highly significant.\n",
    "\n",
    "The p-value is a test of statistical significance; i.e. are these explanatory variables actually able to forecast house prices? The **p-value** for all variables is < 0.01 showing they are all highly statistically significant and they do aid in predicting house prices. "
   ]
  },
  {
   "cell_type": "markdown",
   "metadata": {
    "id": "TsWA_susY_8u"
   },
   "source": [
    "House Prices ≈ (123 times the area of the house) - (10,880 times the number of bedrooms) + (64,330 times the grade of the house) - (7,316 times the number of bathrooms) + (569,300 times the latitude) - (100,000 time the longitude) - 39,500,000 "
   ]
  },
  {
   "cell_type": "markdown",
   "metadata": {
    "id": "fJ60wTlCYa2H"
   },
   "source": [
    "## ***Part 4***"
   ]
  },
  {
   "cell_type": "markdown",
   "metadata": {},
   "source": [
    "**Run all suitable diagnostic tests on the regression specification, making improvements to the regression specification where necessary. Discuss the issues and changes made.**"
   ]
  },
  {
   "cell_type": "markdown",
   "metadata": {
    "id": "A7rBH7zGYtk_"
   },
   "source": [
    "Autocorrelation can be detected with the Durbin-Watson Test. The Durbin-Watson is really a test for a relationship between the errors now and in the future; are there any patterns? It would be worrying to see any patterns in the errors. A value of 2 represents zero correlation. \n",
    "\n",
    "There must be a constant in the equation, which we have in our model, our constant is -39,500,000. \n",
    "\n",
    "If autocorrelation is present, the Newey-West robust standard errors test should be conducted. "
   ]
  },
  {
   "cell_type": "markdown",
   "metadata": {
    "id": "u2GZoIQfMg9f"
   },
   "source": [
    "From examining the regression results above, the Durbin-Watson Test result is 1.99. This is fine and is close to zero correlation. It is not a set of time series data, so this should be expected. There is no autocorrelation so a Newey-West robust standard errors test should not be completed."
   ]
  },
  {
   "cell_type": "code",
   "execution_count": null,
   "metadata": {
    "colab": {
     "base_uri": "https://localhost:8080/",
     "height": 306
    },
    "id": "KOXEyBjoP2wv",
    "outputId": "2cb93793-b3d0-4433-a54d-4e201367e50e"
   },
   "outputs": [],
   "source": [
    "fig=sm.graphics.plot_regress_exog(model_mult,'sqft_living')\n",
    "fig.show()\n",
    "\n",
    "#Top right graph shows no distinguishable patterns in the errors of square foot living, which is a good sign"
   ]
  },
  {
   "cell_type": "code",
   "execution_count": null,
   "metadata": {
    "colab": {
     "base_uri": "https://localhost:8080/",
     "height": 308
    },
    "id": "Crn2OCnlOuSb",
    "outputId": "7aca4e2c-c83f-47ec-de85-2c0e10e0c951"
   },
   "outputs": [],
   "source": [
    "fig=sm.graphics.plot_regress_exog(model_mult,'bathrooms')\n",
    "fig.show()\n",
    "\n",
    "#Again, top right graph shows no patterns in the errors of number of bathrooms, which is another good sign"
   ]
  },
  {
   "cell_type": "markdown",
   "metadata": {
    "id": "H-yMy3fNtg-X"
   },
   "source": [
    "Heteroskedasticity is a test for patterns in the errors of a regression. A change in the bedrooms variable should not be related to a different type of error.\n",
    "\n",
    "If we detect heteroskedasticity then we can't trust our standard error estimates and therefore we cannot trust our model."
   ]
  },
  {
   "cell_type": "code",
   "execution_count": null,
   "metadata": {
    "id": "QeDwDD2s6z1T"
   },
   "outputs": [],
   "source": [
    "from statsmodels.compat import lzip\n",
    "import statsmodels.stats.api as sms "
   ]
  },
  {
   "cell_type": "code",
   "execution_count": null,
   "metadata": {
    "colab": {
     "base_uri": "https://localhost:8080/"
    },
    "id": "Y_PtsK1W7OSc",
    "outputId": "ac9c8722-d79b-4ba1-f0d9-49e1fc5c65e0"
   },
   "outputs": [],
   "source": [
    "names = [\"LM Statistic\", 'LM Test p-value', 'F-Statistic', 'F-Test p-value']\n",
    "test = sms.het_breuschpagan(model_mult.resid, model_mult.model.exog)\n",
    "lzip(names, test)\n",
    "\n",
    "# A Breusch Pagan test can be used to test for heteroskedasticity\n",
    "\n",
    "# p-values > 0.05, therefore there is no heteroskedasticity \n",
    "# This gives further confidence that the model can truly predict house prices \n",
    "# As there is no presence of heteroskedasticity, a test for white robust standard errors is not necessary but is done below."
   ]
  },
  {
   "cell_type": "code",
   "execution_count": null,
   "metadata": {
    "colab": {
     "base_uri": "https://localhost:8080/"
    },
    "id": "JxM43ZjoPIrH",
    "outputId": "19667ac1-274f-4146-cc27-883dfe4b015b"
   },
   "outputs": [],
   "source": [
    "# White robust standard errors\n",
    "\n",
    "y_het= houses_noout['price']\n",
    "X_het= houses_noout[['sqft_living','bedrooms','grade','bathrooms', 'lat','long']]\n",
    "X_het= sm.add_constant(X_het)\n",
    "model_het= sm.OLS(y_het, X_het).fit(cov_type='HC3')\n",
    "print(model_het.summary())\n",
    "\n",
    "# Covariance Type has changed from nonrobust to HC3, now we have a type of robustness \n",
    "# The standard errors of the variables has changed, lower is better (all else being equal)\n",
    "\n",
    "# The standard errors of the explanatory variables have increased. The p-values are still < 0.01, so we still reject the null hypothesis.\n",
    "# This further reaffirms us that our model can be used to predict house prices"
   ]
  },
  {
   "cell_type": "markdown",
   "metadata": {
    "id": "T-mybTUg0hHA"
   },
   "source": [
    "The positive skewness of 0.8 shows the manipulated dataset is moderately skewed. A histogram of all the prices woud not be perfectly symmetrical.\n",
    "The excess kurtosis of 4.5 shows there is a higher likelihood of  really expensive and really cheap houses. The Jarque-Bera test further emphasises that the price dataset is non-normal. "
   ]
  },
  {
   "cell_type": "markdown",
   "metadata": {
    "id": "6Lu7GCt80NCq"
   },
   "source": [
    "The Jarque-Bera test checks whether our model has the skewness and kurtosis of a normal distribution. The score of 4025 shows the price data is non-normal"
   ]
  },
  {
   "cell_type": "code",
   "execution_count": null,
   "metadata": {
    "colab": {
     "base_uri": "https://localhost:8080/"
    },
    "id": "u-fRgtesYdYp",
    "outputId": "765ce75c-9115-4126-d5df-ca3a0e1a6f83"
   },
   "outputs": [],
   "source": [
    "#Variance Inflation Factors (VIF)\n",
    "\n",
    "from statsmodels.stats.outliers_influence import variance_inflation_factor as vif\n",
    "X = houses_noout[['sqft_living', 'bedrooms', 'grade','bathrooms','lat','long']]\n",
    "vif_data=pd.DataFrame()\n",
    "vif_data['feature']=X.columns\n",
    "\n",
    "vif_data['VIF']=[vif(X.values, i)\n",
    "                        for i in range(len(X.columns))]\n",
    "print(vif_data)\n",
    "\n",
    "# These VIFs are potentially a serious cause for concern\n",
    "# There is possibly multicollinearity between the variables, meaning bedrooms, sqft_living, grade, bathrooms, bedrooms,\n",
    "# latitude and longitude are highly correlated with each other. \n",
    "# Multicollinearity increases the R-squared value, but the standard errors of the individual variables are high. \n",
    "# The individual variables are not significant"
   ]
  },
  {
   "cell_type": "markdown",
   "metadata": {
    "id": "g0-3rWRBWdrR"
   },
   "source": [
    "A high VIF does not reduce the explanatory power of the model, but it does reduce the statistical signififcance of the independent variables (square feet, bedrooms, grade, bathrooms, latitude & longitude).\n",
    "\n",
    "If possible, explanatory variables that have a VIF of greater than 10 should be taken out of the model. This is not possible in this case as all of the explanatory variables have a VIF of greater than 10. \n",
    "\n",
    "We are still confident that our model can approximately predict house prices, but the explanatory variables themselves are not statistically significant. \n",
    "\n",
    "The multicollinearity is to be expected. Common sense will explain that when the number of bedrooms increases, the number of bathrooms is also likely to increase. Similarly, when the number of rooms in the house increases, the square footage is likely to increase. A house with 10 rooms in total is likely to be bigger than a house with 3 rooms. "
   ]
  },
  {
   "cell_type": "code",
   "execution_count": null,
   "metadata": {
    "colab": {
     "base_uri": "https://localhost:8080/",
     "height": 296
    },
    "id": "nm9QhWwoBVvs",
    "outputId": "46900854-dff6-446f-ffae-fd50945d85ca"
   },
   "outputs": [],
   "source": [
    "sns.scatterplot(x='lat',y='long',data=houses_noout,hue='price')"
   ]
  },
  {
   "cell_type": "code",
   "execution_count": null,
   "metadata": {
    "colab": {
     "base_uri": "https://localhost:8080/",
     "height": 308
    },
    "id": "fwa7Y2nY4E5N",
    "outputId": "291a54e1-53d8-43dd-907e-72f5ac66634c"
   },
   "outputs": [],
   "source": [
    "sns.scatterplot(x='sqft_living',y='price',data=houses_noout,hue='bedrooms')"
   ]
  },
  {
   "cell_type": "code",
   "execution_count": null,
   "metadata": {
    "colab": {
     "base_uri": "https://localhost:8080/",
     "height": 308
    },
    "id": "kuEFmU9A8rCc",
    "outputId": "8652abc0-c08a-4704-af04-7408ada977c3"
   },
   "outputs": [],
   "source": [
    "sns.scatterplot(x='sqft_living',y='price',data=houses_noout,hue='grade')\n",
    "\n",
    "# The correlation between explanatory variables can be seen below. As the price and square foot increase, the grade increases as well\n",
    "# This helps to explain the VIFs that are greater than 10. \n",
    "# As you can see below, when the square foot and price increase, so does the grade given to the house."
   ]
  },
  {
   "cell_type": "markdown",
   "metadata": {
    "id": "MwR-pY0nViOu"
   },
   "source": [
    "## ***Summary***"
   ]
  },
  {
   "cell_type": "markdown",
   "metadata": {
    "id": "38hCihAwTsBX"
   },
   "source": [
    "In conclusion, the model developed had an Adjusted R-squared value of 0.624.  The states that 62.4% of the house prices in the manipulated dataset fit the regression model, i.e. given their 6 variables the price could be (approximately) predicted using the model. It was shown that there is no heteroskedasticity. The p-values for each variable were < 0.01, giving further confidence in the model. \n",
    "\n",
    "However, the VIFs of each explanatory variable were high ( >10), multicollinearity is apparent. From this we learned that the explanatory variables individually are not significant, but the model is still valid. "
   ]
  },
  {
   "cell_type": "markdown",
   "metadata": {
    "id": "PoggfNGo2xCz"
   },
   "source": [
    "House Prices ≈ (123 times the size of the house) - (10,880 times the number of bedrooms) + (64,330 times the grade of the house) - (7,316 times the number of bathrooms) + (569,300 times the latitude) - (100,000 time the longitude) - 39,500,000"
   ]
  },
  {
   "cell_type": "markdown",
   "metadata": {
    "id": "rZsvmx1DTUGf"
   },
   "source": [
    "## ***Extras***"
   ]
  },
  {
   "cell_type": "markdown",
   "metadata": {
    "id": "AB9bx8aAOYVG"
   },
   "source": [
    "It is likely that we could better predict house prices using machine learning "
   ]
  },
  {
   "cell_type": "code",
   "execution_count": null,
   "metadata": {
    "id": "a3PBsO6HIDVq"
   },
   "outputs": [],
   "source": [
    "train1=houses_noout.drop(['id','price'],axis=1)"
   ]
  },
  {
   "cell_type": "code",
   "execution_count": null,
   "metadata": {
    "id": "UXUI4hldIOx3"
   },
   "outputs": [],
   "source": [
    "from sklearn.linear_model import LinearRegression"
   ]
  },
  {
   "cell_type": "code",
   "execution_count": null,
   "metadata": {
    "id": "sDo2975-IWBf"
   },
   "outputs": [],
   "source": [
    "reg = LinearRegression()"
   ]
  },
  {
   "cell_type": "code",
   "execution_count": null,
   "metadata": {
    "colab": {
     "base_uri": "https://localhost:8080/"
    },
    "id": "WqPvHyHWIDi7",
    "outputId": "187c805d-0f88-4dc8-d25b-d91495f2f07f"
   },
   "outputs": [],
   "source": [
    "labels=houses_noout['price']\n",
    "conv_dates=[1 if values ==2014 else 0 for values in houses_noout.date]\n",
    "houses_noout['date']=conv_dates\n",
    "train1= houses_noout.drop(['id','price'],axis=1)\n",
    "\n",
    "# Prices are to be predicted\n",
    "# Set the dates to 0s and 1s, so they have less of an influence"
   ]
  },
  {
   "cell_type": "code",
   "execution_count": null,
   "metadata": {
    "id": "6KUBW_yVIInd"
   },
   "outputs": [],
   "source": [
    "from sklearn.model_selection import train_test_split"
   ]
  },
  {
   "cell_type": "code",
   "execution_count": null,
   "metadata": {
    "id": "waDtBsk1IDxI"
   },
   "outputs": [],
   "source": [
    "x_train, x_test, y_train, y_test = train_test_split(train1, labels, test_size=.1, random_state=2)\n",
    "\n",
    "# Train data is 90%, test data is 10%"
   ]
  },
  {
   "cell_type": "code",
   "execution_count": null,
   "metadata": {
    "colab": {
     "base_uri": "https://localhost:8080/"
    },
    "id": "qCHhWP-0ID4U",
    "outputId": "0754c446-e73a-4d03-9856-08b96441f468"
   },
   "outputs": [],
   "source": [
    "reg.fit(x_train, y_train)"
   ]
  },
  {
   "cell_type": "code",
   "execution_count": null,
   "metadata": {
    "colab": {
     "base_uri": "https://localhost:8080/"
    },
    "id": "XAcro-VsI4FX",
    "outputId": "7dc93814-2e09-4943-a51a-fd6036c3fbdb"
   },
   "outputs": [],
   "source": [
    "reg.score(x_test, y_test)"
   ]
  },
  {
   "cell_type": "markdown",
   "metadata": {
    "id": "ePnNgdeyNIOJ"
   },
   "source": [
    "The prediction score is 91%. This is greater than the theoretical model developed "
   ]
  },
  {
   "cell_type": "markdown",
   "metadata": {
    "id": "aLW1_X0OPYY8"
   },
   "source": [
    "Gradient Boosting Regression is used below to get further accuracy "
   ]
  },
  {
   "cell_type": "code",
   "execution_count": null,
   "metadata": {
    "id": "Y2yY3n6NGEx2"
   },
   "outputs": [],
   "source": [
    "from sklearn import ensemble\n",
    "clf = ensemble.GradientBoostingRegressor(n_estimators = 400, max_depth=5, min_samples_split = 2, learning_rate=.1)\n",
    "\n",
    "# Gradient Boosting Regression can be used for prediction models"
   ]
  },
  {
   "cell_type": "code",
   "execution_count": null,
   "metadata": {
    "colab": {
     "base_uri": "https://localhost:8080/"
    },
    "id": "idYKeSJbGNgX",
    "outputId": "0092a863-332c-41b4-9244-64e3c197ab53"
   },
   "outputs": [],
   "source": [
    "clf.fit(x_train, y_train)"
   ]
  },
  {
   "cell_type": "code",
   "execution_count": null,
   "metadata": {
    "colab": {
     "base_uri": "https://localhost:8080/"
    },
    "id": "Rq7yczgUG50O",
    "outputId": "bcf39cd7-c6b7-408e-8ae9-18bbdf1bf1c6"
   },
   "outputs": [],
   "source": [
    "clf.score(x_test, y_test)\n",
    "\n",
    "# 99.9% accuracy, very strong compared to the model created earleir that had 62.4% predicting power"
   ]
  },
  {
   "cell_type": "code",
   "execution_count": null,
   "metadata": {},
   "outputs": [],
   "source": []
  }
 ],
 "metadata": {
  "colab": {
   "collapsed_sections": [],
   "name": "Assignment 1.ipynb",
   "provenance": []
  },
  "kernelspec": {
   "display_name": "Python 3 (ipykernel)",
   "language": "python",
   "name": "python3"
  },
  "language_info": {
   "codemirror_mode": {
    "name": "ipython",
    "version": 3
   },
   "file_extension": ".py",
   "mimetype": "text/x-python",
   "name": "python",
   "nbconvert_exporter": "python",
   "pygments_lexer": "ipython3",
   "version": "3.10.9"
  }
 },
 "nbformat": 4,
 "nbformat_minor": 4
}
